{
 "cells": [
  {
   "cell_type": "markdown",
   "metadata": {},
   "source": [
    "1. Load the MNIST dataset: You can load the MNIST dataset using the mnist.load_data() function from tensorflow.keras.datasets. This dataset contains 28x28 grayscale images of handwritten digits (0 through 9).\n",
    "\n",
    "2. Preprocess the data: Normalize the pixel values of the images to be between 0 and 1. Reshape the images to a suitable format for the autoencoder model.\n",
    "\n",
    "3. Split the dataset: Split the dataset into training and testing sets.\n",
    "\n",
    "4. Build the autoencoder model:\n",
    "    1. Define an encoder model that reduces the dimensionality of the input images.\n",
    "    2. Define a decoder model that reconstructs the original input from the encoded representation.\n",
    "    3. Combine the encoder and decoder to form the autoencoder model.\n",
    "5. Compile the model: Compile the autoencoder model with an appropriate loss function and optimizer.\n",
    "\n",
    "6. Train the model: Train the autoencoder model using the training data.\n",
    "\n",
    "7. Evaluate the model: Evaluate the performance of the autoencoder using the testing data."
   ]
  },
  {
   "cell_type": "code",
   "execution_count": null,
   "metadata": {},
   "outputs": [],
   "source": [
    "from sklearn.cluster import KMeans\n",
    "import matplotlib.pyplot as plt\n",
    "import numpy as np\n",
    "import pandas as pd\n",
    "from sklearn.metrics import accuracy_score, precision_score, recall_score, adjusted_rand_score\n",
    "from sklearn.model_selection import train_test_split\n",
    "from tensorflow.keras import layers, losses\n",
    "from tensorflow.keras.datasets import mnist\n",
    "from tensorflow.keras.models import Model"
   ]
  },
  {
   "cell_type": "code",
   "execution_count": null,
   "metadata": {},
   "outputs": [],
   "source": [
    "# Step 1: Load the MNIST dataset\n",
    "(x_train, _), (x_test, _) = mnist.load_data()\n",
    "\n",
    "# Step 2: Preprocess the data\n",
    "x_train = x_train.astype('float32') / 255\n",
    "x_test = x_test.astype('float32') / 255\n",
    "\n",
    "# Reshape the images to 28x28x1 (single channel)\n",
    "x_train = np.reshape(x_train, (len(x_train), 28, 28, 1))\n",
    "x_test = np.reshape(x_test, (len(x_test), 28, 28, 1))"
   ]
  },
  {
   "cell_type": "code",
   "execution_count": null,
   "metadata": {},
   "outputs": [],
   "source": [
    "# Step 4: Build the autoencoder model\n",
    "encoder_input = layers.Input(shape=(28, 28, 1))\n",
    "x = layers.Conv2D(16, (3, 3), activation='relu', padding='same')(encoder_input)\n",
    "x = layers.MaxPooling2D((2, 2), padding='same')(x)\n",
    "x = layers.Conv2D(8, (3, 3), activation='relu', padding='same')(x)\n",
    "x = layers.MaxPooling2D((2, 2), padding='same')(x)\n",
    "x = layers.Conv2D(8, (3, 3), activation='relu', padding='same')(x)\n",
    "encoded = layers.MaxPooling2D((2, 2), padding='same')(x)\n",
    "encoder = Model(encoder_input, encoded, name='encoder')"
   ]
  },
  {
   "cell_type": "code",
   "execution_count": null,
   "metadata": {},
   "outputs": [],
   "source": [
    "decoder_input = layers.Input(shape=(4, 4, 8))\n",
    "x = layers.Conv2D(8, (3, 3), activation='relu', padding='same')(decoder_input)\n",
    "x = layers.UpSampling2D((2, 2))(x)\n",
    "x = layers.Conv2D(8, (3, 3), activation='relu', padding='same')(x)\n",
    "x = layers.UpSampling2D((2, 2))(x)\n",
    "x = layers.Conv2D(16, (3, 3), activation='relu')(x)\n",
    "x = layers.UpSampling2D((2, 2))(x)\n",
    "decoded = layers.Conv2D(1, (3, 3), activation='sigmoid', padding='same')(x)"
   ]
  },
  {
   "cell_type": "code",
   "execution_count": null,
   "metadata": {},
   "outputs": [],
   "source": [
    "decoder = Model(decoder_input, decoded, name='decoder')"
   ]
  },
  {
   "cell_type": "code",
   "execution_count": null,
   "metadata": {},
   "outputs": [],
   "source": [
    "autoencoder_input = layers.Input(shape=(28, 28, 1))\n",
    "encoded_img = encoder(autoencoder_input)\n",
    "decoded_img = decoder(encoded_img)\n",
    "autoencoder = Model(autoencoder_input, decoded_img, name='autoencoder')"
   ]
  },
  {
   "cell_type": "code",
   "execution_count": null,
   "metadata": {},
   "outputs": [],
   "source": [
    "# Step 5: Compile the model\n",
    "autoencoder.compile(optimizer='adam', loss='mse')"
   ]
  },
  {
   "cell_type": "code",
   "execution_count": null,
   "metadata": {},
   "outputs": [],
   "source": [
    "# Step 6: Train the model\n",
    "autoencoder.fit(x_train, x_train,\n",
    "                epochs=90,\n",
    "                batch_size=128,\n",
    "                shuffle=True)"
   ]
  },
  {
   "cell_type": "code",
   "execution_count": null,
   "metadata": {},
   "outputs": [],
   "source": [
    "# Step 7: Evaluate the model\n",
    "decoded_imgs = autoencoder.predict(x_test)"
   ]
  },
  {
   "cell_type": "code",
   "execution_count": null,
   "metadata": {},
   "outputs": [],
   "source": [
    "\"\"\" n = 10\n",
    "plt.figure(figsize=(20, 4))\n",
    "for i in range(n):\n",
    "  # display original\n",
    "  ax = plt.subplot(2, n, i + 1)\n",
    "  plt.imshow(x_test[i])\n",
    "  plt.title(\"original\")\n",
    "  plt.gray()\n",
    "  ax.get_xaxis().set_visible(False)\n",
    "  ax.get_yaxis().set_visible(False)\n",
    "\n",
    "  # display reconstruction\n",
    "  ax = plt.subplot(2, n, i + 1 + n)\n",
    "  plt.imshow(decoded_imgs[i])\n",
    "  plt.title(\"reconstructed\")\n",
    "  plt.gray()\n",
    "  ax.get_xaxis().set_visible(False)\n",
    "  ax.get_yaxis().set_visible(False)\n",
    "plt.show() \"\"\""
   ]
  },
  {
   "cell_type": "markdown",
   "metadata": {},
   "source": [
    "To encode new data using the trained autoencoder and then perform clustering on the encoded representations, you can follow these steps:\n",
    "\n",
    "Load the trained autoencoder model: Load the autoencoder model that you trained previously.\n",
    "\n",
    "Load and preprocess the new data: Load the new data from the CSV file and preprocess it if necessary.\n",
    "\n",
    "Encode the new data: Use the encoder part of the autoencoder to encode the new data into a lower-dimensional space.\n",
    "\n",
    "Perform clustering on the encoded representations: Apply a clustering algorithm, such as K-means clustering, to cluster the encoded representations."
   ]
  },
  {
   "cell_type": "code",
   "execution_count": null,
   "metadata": {},
   "outputs": [],
   "source": [
    "\n",
    "# Step 2: Load and preprocess the new data\n",
    "Dr_Ahmads_Data = pd.read_csv('data.csv')\n",
    "\n",
    "# Separate features (pixels) and labels\n",
    "X = Dr_Ahmads_Data.drop(\"ID\", axis=1).values.reshape(-1, 28, 28, 1) / 255.0\n",
    "print(x.shape)"
   ]
  },
  {
   "cell_type": "code",
   "execution_count": null,
   "metadata": {},
   "outputs": [],
   "source": [
    "# Reshape the data if necessary to match the input shape of the autoencoder\n",
    "# In this case, the shape should match (batch_size, 28, 28, 1)\n",
    "\n",
    "# Step 3: Encode the new data\n",
    "encoded_data = encoder.predict(X)\n",
    "# Flatten the spatial dimensions of encoded_data\n",
    "encoded_data_flat = encoded_data.reshape(encoded_data.shape[0], -1)\n",
    "print(encoded_data_flat.shape)"
   ]
  },
  {
   "cell_type": "code",
   "execution_count": null,
   "metadata": {},
   "outputs": [],
   "source": [
    "# Grid search to find the best KMeans params\n",
    "\"\"\" from sklearn.cluster import KMeans\n",
    "from sklearn.model_selection import GridSearchCV\n",
    "\n",
    "param_grid = {\n",
    "    'n_clusters': [8, 9, 10, 11, 12],  \n",
    "    'init': ['k-means++', 'random'],   \n",
    "    'n_init': [10, 20, 30],             \n",
    "    'max_iter': [100, 200, 300]         \n",
    "}\n",
    "\n",
    "# Create a KMeans estimator\n",
    "kmeans = KMeans(random_state=52)\n",
    "\n",
    "# Perform GridSearch\n",
    "grid_search = GridSearchCV(estimator=kmeans, param_grid=param_grid, cv=5)\n",
    "grid_search.fit(encoded_data_flat)\n",
    "\n",
    "# Get the best parameters\n",
    "best_params = grid_search.best_params_\n",
    "print(\"Best Parameters:\", best_params)\n",
    "\n",
    "# Fit the data using the best parameters\n",
    "best_kmeans = KMeans(**best_params, random_state=52)\n",
    "best_clusters = best_kmeans.fit_predict(encoded_data_flat) \"\"\""
   ]
  },
  {
   "cell_type": "code",
   "execution_count": null,
   "metadata": {},
   "outputs": [],
   "source": [
    "# Fit the data using the best parameters\n",
    "best_kmeans = KMeans(max_iter = 300, n_clusters = 12, random_state=42)\n",
    "best_clusters = best_kmeans.fit_predict(encoded_data_flat)"
   ]
  },
  {
   "cell_type": "code",
   "execution_count": null,
   "metadata": {},
   "outputs": [],
   "source": [
    "# Step 5: Generate Submission File\n",
    "submission = pd.DataFrame({'ID': Dr_Ahmads_Data['ID'], 'Label': best_clusters})\n",
    "submission.to_csv('AutoEncoderKmeans_submission.csv', index=False) \n",
    "# 0.43 Score, very sadly.\n",
    "# Also tried VGG16, also ended with a bad score."
   ]
  }
 ],
 "metadata": {
  "kernelspec": {
   "display_name": ".venv",
   "language": "python",
   "name": "python3"
  },
  "language_info": {
   "codemirror_mode": {
    "name": "ipython",
    "version": 3
   },
   "file_extension": ".py",
   "mimetype": "text/x-python",
   "name": "python",
   "nbconvert_exporter": "python",
   "pygments_lexer": "ipython3",
   "version": "3.10.13"
  }
 },
 "nbformat": 4,
 "nbformat_minor": 2
}
