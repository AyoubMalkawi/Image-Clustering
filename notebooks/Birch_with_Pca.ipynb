{
  "cells": [
    {
      "cell_type": "code",
      "execution_count": null,
      "metadata": {
        "id": "pNWrqFKreHLm"
      },
      "outputs": [],
      "source": [
        "import pandas as pd\n",
        "from sklearn.cluster import Birch\n",
        "from sklearn.decomposition import PCA\n",
        "import matplotlib.pyplot as plt\n",
        "import pandas as pd"
      ]
    },
    {
      "cell_type": "code",
      "execution_count": null,
      "metadata": {
        "id": "jid4MM3xN8uj"
      },
      "outputs": [],
      "source": [
        "Data=pd.read_csv(\"data.csv\")\n",
        "Data.drop(\"ID\",axis=1,inplace=True)"
      ]
    },
    {
      "cell_type": "code",
      "execution_count": null,
      "metadata": {
        "id": "kfSdKw84OFih"
      },
      "outputs": [],
      "source": [
        "pca = PCA(n_components=200, svd_solver='randomized',n_oversamples=30,random_state=52)\n",
        "data_pca = pca.fit_transform(Data)"
      ]
    },
    {
      "cell_type": "code",
      "execution_count": null,
      "metadata": {
        "colab": {
          "base_uri": "https://localhost:8080/"
        },
        "id": "A318lFUwOYeZ",
        "outputId": "8cb4d0cb-9db1-4045-d3c0-5fdc5c272e6c"
      },
      "outputs": [],
      "source": [
        "Birch_model=Birch(n_clusters=8,threshold=4,branching_factor=200)\n",
        "\n",
        "# Fit the model to your data\n",
        "labels=Birch_model.fit_predict(data_pca)\n",
        "df = pd.DataFrame({'ID': range(1, 1000), 'Label': labels[:999]})"
      ]
    },
    {
      "cell_type": "code",
      "execution_count": null,
      "metadata": {
        "id": "9lSaZGRTPPOu"
      },
      "outputs": [],
      "source": [
        "prediction_csv=df.to_csv(\"predictions(56).csv\",index=False) # 0.48 Score"
      ]
    }
  ],
  "metadata": {
    "colab": {
      "provenance": []
    },
    "kernelspec": {
      "display_name": "Python 3",
      "name": "python3"
    },
    "language_info": {
      "codemirror_mode": {
        "name": "ipython",
        "version": 3
      },
      "file_extension": ".py",
      "mimetype": "text/x-python",
      "name": "python",
      "nbconvert_exporter": "python",
      "pygments_lexer": "ipython3",
      "version": "3.10.13"
    }
  },
  "nbformat": 4,
  "nbformat_minor": 0
}
